{
 "cells": [
  {
   "cell_type": "code",
   "execution_count": 1,
   "id": "ecbfe207",
   "metadata": {},
   "outputs": [],
   "source": [
    "import numpy as np\n",
    "\n",
    "def solution(key, lock):\n",
    "    size = len(lock[0]) + 1\n",
    "    for i in range(4):\n",
    "        for j in range(len(key)+size-2):\n",
    "            for k in range(len(key)+size-2):\n",
    "                nkey = np.pad(key,((j,len(key)+size-2-j),(k,len(key)+size-2-k)))\n",
    "                nkey = 1 - nkey\n",
    "                if np.array_equal(nkey[len(key)-1:len(key)+size-2,len(key)-1:len(key)+size-2],lock):\n",
    "                    return True\n",
    "        key = np.rot90(key,k=-1)\n",
    "    else:\n",
    "        return False"
   ]
  },
  {
   "cell_type": "code",
   "execution_count": 2,
   "id": "760e1cb8",
   "metadata": {},
   "outputs": [
    {
     "data": {
      "text/plain": [
       "True"
      ]
     },
     "execution_count": 2,
     "metadata": {},
     "output_type": "execute_result"
    }
   ],
   "source": [
    "key = [[0, 0, 0], [1, 0, 0], [0, 1, 1]]\n",
    "lock = [[1, 1, 1], [1, 1, 0], [1, 0, 1]]\n",
    "solution(key,lock)"
   ]
  },
  {
   "cell_type": "code",
   "execution_count": null,
   "id": "ecb807a8",
   "metadata": {},
   "outputs": [],
   "source": []
  }
 ],
 "metadata": {
  "kernelspec": {
   "display_name": "Python 3 (ipykernel)",
   "language": "python",
   "name": "python3"
  },
  "language_info": {
   "codemirror_mode": {
    "name": "ipython",
    "version": 3
   },
   "file_extension": ".py",
   "mimetype": "text/x-python",
   "name": "python",
   "nbconvert_exporter": "python",
   "pygments_lexer": "ipython3",
   "version": "3.10.1"
  }
 },
 "nbformat": 4,
 "nbformat_minor": 5
}
