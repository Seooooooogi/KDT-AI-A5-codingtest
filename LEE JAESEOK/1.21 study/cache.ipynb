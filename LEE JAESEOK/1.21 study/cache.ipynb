{
 "cells": [
  {
   "cell_type": "code",
   "execution_count": 1,
   "id": "4fcbac15",
   "metadata": {},
   "outputs": [],
   "source": [
    "def solution(cacheSize, cities):\n",
    "    answer = 0\n",
    "    cache = []\n",
    "    for city in cities:\n",
    "        city = city.lower()\n",
    "        if cacheSize == 0:\n",
    "            answer += 5\n",
    "        else:   \n",
    "            if not city in cache:\n",
    "                answer += 5\n",
    "                if len(cache) < cacheSize:\n",
    "                    cache.append(city)\n",
    "                else:\n",
    "                    cache.pop(0)\n",
    "                    cache.append(city)\n",
    "            else:\n",
    "                answer += 1\n",
    "                cache.pop(cache.index(city))\n",
    "                cache.append(city)\n",
    "    return answer"
   ]
  }
 ],
 "metadata": {
  "kernelspec": {
   "display_name": "Python 3 (ipykernel)",
   "language": "python",
   "name": "python3"
  },
  "language_info": {
   "codemirror_mode": {
    "name": "ipython",
    "version": 3
   },
   "file_extension": ".py",
   "mimetype": "text/x-python",
   "name": "python",
   "nbconvert_exporter": "python",
   "pygments_lexer": "ipython3",
   "version": "3.10.1"
  }
 },
 "nbformat": 4,
 "nbformat_minor": 5
}
