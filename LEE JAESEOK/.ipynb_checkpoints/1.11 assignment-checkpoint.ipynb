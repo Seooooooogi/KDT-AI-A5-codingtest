{
 "cells": [
  {
   "cell_type": "code",
   "execution_count": 1,
   "id": "ce9c951d",
   "metadata": {},
   "outputs": [],
   "source": [
    "def solution(s):\n",
    "    answer = len(s)\n",
    "    for i in range(1,int(len(s)/2+1)):  #s의 길이의 절반까지 나눴을 때까지 불가능하면 압축이 불가능하다.\n",
    "        comp = \"\"\n",
    "        cur = s[:i]\n",
    "        count = 1\n",
    "        for j in range(i,len(s)+1,i):\n",
    "            if cur==s[j:j+i]:   #자른 문자열이 다음 문자열 단위와 같으면 카운트 + 1\n",
    "                count += 1\n",
    "            else:   #자른 문자열 압축 끝\n",
    "                if count > 1:   #카운트가 1이면 comp에 추가하지 않는다.\n",
    "                    comp += str(count)\n",
    "                comp += cur\n",
    "                cur = s[j:j+i] if j+i < len(s) else s[j:] #다음 커서 지정. 이 부분이 애매함(if문 없이도 제대로 작동)\n",
    "                count = 1\n",
    "        comp += cur #남은 부분 문자열을 더해준다.\n",
    "        answer = min(answer , len(comp))    #answer와 comp중에 더 짧은 문자열을 정답으로 교체해준다.  \n",
    "    return answer"
   ]
  },
  {
   "cell_type": "code",
   "execution_count": 2,
   "id": "539b5e3c",
   "metadata": {},
   "outputs": [
    {
     "data": {
      "text/plain": [
       "14"
      ]
     },
     "execution_count": 2,
     "metadata": {},
     "output_type": "execute_result"
    }
   ],
   "source": [
    "solution(\"abcabcabcabcdededededede\")"
   ]
  },
  {
   "cell_type": "code",
   "execution_count": null,
   "id": "961e298d",
   "metadata": {},
   "outputs": [],
   "source": []
  }
 ],
 "metadata": {
  "kernelspec": {
   "display_name": "Python 3 (ipykernel)",
   "language": "python",
   "name": "python3"
  },
  "language_info": {
   "codemirror_mode": {
    "name": "ipython",
    "version": 3
   },
   "file_extension": ".py",
   "mimetype": "text/x-python",
   "name": "python",
   "nbconvert_exporter": "python",
   "pygments_lexer": "ipython3",
   "version": "3.10.1"
  }
 },
 "nbformat": 4,
 "nbformat_minor": 5
}
