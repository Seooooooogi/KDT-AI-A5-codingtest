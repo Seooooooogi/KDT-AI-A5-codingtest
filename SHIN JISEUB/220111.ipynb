{
 "cells": [
  {
   "cell_type": "code",
   "execution_count": 8,
   "metadata": {},
   "outputs": [
    {
     "data": {
      "text/plain": [
       "[3, 4]"
      ]
     },
     "execution_count": 8,
     "metadata": {},
     "output_type": "execute_result"
    }
   ],
   "source": [
    "# 상하좌우\n",
    "def minus(a, b):\n",
    "    return a - b\n",
    "def solution(n, ary):\n",
    "    # n : mapsize, ary : route\n",
    "    start = (1, 1)\n",
    "    for i in ary:\n",
    "        if i == 'R':\n",
    "            add = (0, 1)\n",
    "        elif i == 'L':\n",
    "            add = (0, -1)\n",
    "        elif i == \"U\":\n",
    "            add = (-1, 0)\n",
    "        elif i == 'D':\n",
    "            add = (1, 0)\n",
    "        \n",
    "        start = [sum(elem) for elem in zip(start, add)]\n",
    "        if (0 in start) or (-1 in start):\n",
    "            start = [(elem[0]-elem[1]) for elem in zip(start, add)]\n",
    "    return start\n",
    "solution(5, ['R','R','R','U','D','D'])"
   ]
  },
  {
   "cell_type": "code",
   "execution_count": 9,
   "metadata": {},
   "outputs": [
    {
     "data": {
      "text/plain": [
       "4195"
      ]
     },
     "execution_count": 9,
     "metadata": {},
     "output_type": "execute_result"
    }
   ],
   "source": [
    "# 시각\n",
    "def solution(n):\n",
    "    answer = 0\n",
    "    for hour in range(n+1):\n",
    "        for minute in range(60):\n",
    "            for second in range(60):\n",
    "                if str(hour) in '3' or str(minute) in '3' or str(second) in '3':\n",
    "                    answer += 1\n",
    "    return answer\n",
    "solution(5)\n",
    "# 왜 다르지?"
   ]
  },
  {
   "cell_type": "code",
   "execution_count": null,
   "metadata": {},
   "outputs": [],
   "source": [
    "# 왕실의 나이트\n",
    "def solution(p):\n",
    "    "
   ]
  },
  {
   "cell_type": "code",
   "execution_count": 10,
   "metadata": {},
   "outputs": [],
   "source": [
    "# 게임 개발"
   ]
  },
  {
   "cell_type": "code",
   "execution_count": 22,
   "metadata": {},
   "outputs": [
    {
     "data": {
      "text/plain": [
       "'LUCKY'"
      ]
     },
     "execution_count": 22,
     "metadata": {},
     "output_type": "execute_result"
    }
   ],
   "source": [
    "# 럭키 스트레이트\n",
    "def solution(n):\n",
    "    LEN = int(len(str(n)) / 2)\n",
    "    if sum([int(i) for i in str(n)[:LEN]]) == sum([int(i) for i in str(n)[LEN:]]):\n",
    "        return \"LUCKY\"\n",
    "    else:\n",
    "        return 'READY'\n",
    "solution(123402)"
   ]
  },
  {
   "cell_type": "code",
   "execution_count": 26,
   "metadata": {},
   "outputs": [
    {
     "data": {
      "text/plain": [
       "'ABCKK13'"
      ]
     },
     "execution_count": 26,
     "metadata": {},
     "output_type": "execute_result"
    }
   ],
   "source": [
    "# 문자열 재정렬\n",
    "def solution(n):\n",
    "    str_list, int_list = [], []\n",
    "    for i in n:\n",
    "        if i.isnumeric():\n",
    "            int_list.append(int(i))\n",
    "        else:\n",
    "            str_list.append(i)\n",
    "    str_list.sort()\n",
    "    return ''.join(str_list) + str(sum(int_list))\n",
    "\n",
    "solution('K1KA5CB7')"
   ]
  },
  {
   "cell_type": "code",
   "execution_count": 31,
   "metadata": {},
   "outputs": [
    {
     "data": {
      "text/plain": [
       "['a2a2a2a2a2a3a4a4a4a4a4a',\n",
       " '2ab2ab4ab4ab',\n",
       " 'abaabaabaabaaba',\n",
       " 'abab2abab',\n",
       " 'ababcababcababc',\n",
       " 'ababcdababcd',\n",
       " 'ababcdcababcdc',\n",
       " '']"
      ]
     },
     "execution_count": 31,
     "metadata": {},
     "output_type": "execute_result"
    }
   ],
   "source": [
    "# 문자열 압축\n",
    "def solution(n):\n",
    "    '''\n",
    "    1 ~ LEN // 2 만큼의 길이까지 반복문자열 rpt_str을 찾음.\n",
    "    문자열 처음부터 시작해서, 반복이 되면 압축해서  ans_list에 담음\n",
    "    ans_list에서 최소길이를 갖는 문자열을 return\n",
    "    '''\n",
    "    LEN = len(n) // 2\n",
    "    ans_list = []\n",
    "    for i in range(1, LEN + 1):\n",
    "        rpt_str = n[:i]\n",
    "        cnt = 1 # 반복 횟수\n",
    "        ans_str = ''\n",
    "        for j in range(i, len(n), i): # 맨 앞 문자열은 기준점이므로 반복할 필요가 없음, i만큼 건너뜀\n",
    "            if rpt_str == n[j : i+j]: # 다음 구간이 rpt_str와 같다면\n",
    "                cnt += 1 # 반복횟수 1 추가\n",
    "            else: # 다음 구간이 rpt_str와 다르다면\n",
    "                if cnt == 1: #cnt가 1인경우 1을 써줄 필요 없음\n",
    "                    ans_str += rpt_str\n",
    "                else : \n",
    "                    ans_str = ans_str + str(cnt) + rpt_str\n",
    "        ans_list.append(ans_str)\n",
    "    return ans_list        \n",
    "\n",
    "solution('aabbaccc')\n",
    "solution('ababcdcdababcdcd')"
   ]
  },
  {
   "cell_type": "code",
   "execution_count": null,
   "metadata": {},
   "outputs": [],
   "source": [
    "# 자물쇠와 열쇠\n",
    "def solution(key, lock):\n",
    "    '''\n",
    "    자물쇠 : n*n 크기의 행렬\n",
    "    열쇠 : m*m 크기의 행렬\n",
    "    \n",
    "    열쇠와 자물쇠가 일치해야 return True, 아니면 False\n",
    "    열쇠가 자물쇠에 비해 넘쳐도 됨.\n",
    "    열쇠는 회전과 이동이 가능함\n",
    "    '''\n",
    "    \n",
    "solution([[0, 0, 0],\n",
    "          [1, 0, 0],\n",
    "          [0, 1, 1]],\n",
    "        \n",
    "         [[1, 1, 1],\n",
    "          [1, 1, 0],\n",
    "          [1, 0, 1]])"
   ]
  }
 ],
 "metadata": {
  "kernelspec": {
   "display_name": "Python 3",
   "language": "python",
   "name": "python3"
  },
  "language_info": {
   "codemirror_mode": {
    "name": "ipython",
    "version": 3
   },
   "file_extension": ".py",
   "mimetype": "text/x-python",
   "name": "python",
   "nbconvert_exporter": "python",
   "pygments_lexer": "ipython3",
   "version": "3.8.8"
  }
 },
 "nbformat": 4,
 "nbformat_minor": 4
}
