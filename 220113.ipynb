{
 "cells": [
  {
   "cell_type": "code",
   "execution_count": null,
   "id": "banner-familiar",
   "metadata": {},
   "outputs": [],
   "source": [
    "from itertools import permutations\n",
    "def solution(k, dungeons):\n",
    "    # 던전의 개수가 8개 이하이므로, 순열을 써도 통과할듯\n",
    "    # 모든 던전 조합에 대해서, 제한사항을 만족하는 만큼 += 1\n",
    "    LEN_DUN = len(dungeons)\n",
    "    answer = 0\n",
    "    \n",
    "    for perms in permutations(dungeons, LEN_DUN):\n",
    "        cnt = 0\n",
    "        l = k\n",
    "        for perm in perms: # 각 던전\n",
    "            if l >= perm[0]: # 최소요구치보다 현재보유량이 많다면\n",
    "                ㅣ -= perm[1]\n",
    "                cnt += 1\n",
    "        # 정답 갱신\n",
    "        if cnt > answer:\n",
    "            answer = cnt\n",
    "    return answer"
   ]
  }
 ],
 "metadata": {
  "kernelspec": {
   "display_name": "Python 3",
   "language": "python",
   "name": "python3"
  },
  "language_info": {
   "codemirror_mode": {
    "name": "ipython",
    "version": 3
   },
   "file_extension": ".py",
   "mimetype": "text/x-python",
   "name": "python",
   "nbconvert_exporter": "python",
   "pygments_lexer": "ipython3",
   "version": "3.8.5"
  }
 },
 "nbformat": 4,
 "nbformat_minor": 5
}
