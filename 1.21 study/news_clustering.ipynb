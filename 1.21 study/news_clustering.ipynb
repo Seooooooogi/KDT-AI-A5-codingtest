{
 "cells": [
  {
   "cell_type": "code",
   "execution_count": 1,
   "id": "2b5fd469",
   "metadata": {},
   "outputs": [],
   "source": [
    "def solution(str1, str2):\n",
    "    str1 = str1.upper()\n",
    "    str2 = str2.upper()\n",
    "    nstr1 = []\n",
    "    nstr2 = []\n",
    "    for i in range(len(str1)-1):\n",
    "        if str1[i:i+2].isalpha():\n",
    "            nstr1.append(str1[i:i+2])\n",
    "    for i in range(len(str2)-1):\n",
    "        if str2[i:i+2].isalpha():\n",
    "            nstr2.append(str2[i:i+2])\n",
    "    gsum = sum([min(nstr1.count(i),nstr2.count(i)) for i in (set(nstr1) & set(nstr2))])\n",
    "    hsum = sum([max(nstr1.count(i),nstr2.count(i)) for i in (set(nstr1) | set(nstr2))])\n",
    "    if hsum != 0:\n",
    "        answer = int((gsum/hsum) * 65536)\n",
    "    else:\n",
    "        answer = 65536\n",
    "    return answer"
   ]
  }
 ],
 "metadata": {
  "kernelspec": {
   "display_name": "Python 3 (ipykernel)",
   "language": "python",
   "name": "python3"
  },
  "language_info": {
   "codemirror_mode": {
    "name": "ipython",
    "version": 3
   },
   "file_extension": ".py",
   "mimetype": "text/x-python",
   "name": "python",
   "nbconvert_exporter": "python",
   "pygments_lexer": "ipython3",
   "version": "3.10.1"
  }
 },
 "nbformat": 4,
 "nbformat_minor": 5
}
