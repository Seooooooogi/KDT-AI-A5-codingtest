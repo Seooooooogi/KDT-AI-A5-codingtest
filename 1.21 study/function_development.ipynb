{
 "cells": [
  {
   "cell_type": "code",
   "execution_count": 1,
   "id": "1b10f8db",
   "metadata": {},
   "outputs": [],
   "source": [
    "from queue import Queue\n",
    "\n",
    "def solution(progresses, speeds):\n",
    "    answer = [1]\n",
    "    que = Queue()\n",
    "    for i in range(len(progresses)):\n",
    "        nam = int((100 - progresses[i]) / speeds[i]) if ((100 - progresses[i]) % speeds[i]) == 0 else int((100 - progresses[i]) / speeds[i]) + 1\n",
    "        que.put(nam)\n",
    "    a = que.get()\n",
    "    idx = 0\n",
    "    while que.empty() == False:\n",
    "        b = que.get()\n",
    "        if (a >= b):\n",
    "            answer[idx] += 1\n",
    "        else:\n",
    "            idx += 1\n",
    "            answer.append(1)\n",
    "            a , b = b , a\n",
    "        \n",
    "    return answer"
   ]
  }
 ],
 "metadata": {
  "kernelspec": {
   "display_name": "Python 3 (ipykernel)",
   "language": "python",
   "name": "python3"
  },
  "language_info": {
   "codemirror_mode": {
    "name": "ipython",
    "version": 3
   },
   "file_extension": ".py",
   "mimetype": "text/x-python",
   "name": "python",
   "nbconvert_exporter": "python",
   "pygments_lexer": "ipython3",
   "version": "3.10.1"
  }
 },
 "nbformat": 4,
 "nbformat_minor": 5
}
